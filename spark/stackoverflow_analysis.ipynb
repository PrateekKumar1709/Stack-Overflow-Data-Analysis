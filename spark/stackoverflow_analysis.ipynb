{
 "cells": [
  {
   "cell_type": "code",
   "execution_count": 1,
   "id": "1be005dc",
   "metadata": {},
   "outputs": [
    {
     "name": "stderr",
     "output_type": "stream",
     "text": [
      "/home/prateek/Prateek/Softwares/spark-3.2.0-bin-hadoop3.2/python/pyspark/sql/context.py:125: FutureWarning: Deprecated in 3.0.0. Use SparkSession.builder.getOrCreate() instead.\n",
      "  warnings.warn(\n"
     ]
    },
    {
     "data": {
      "text/html": [
       "\n",
       "        <div>\n",
       "            <p><b>SparkContext</b></p>\n",
       "\n",
       "            <p><a href=\"http://192.168.1.117:4040\">Spark UI</a></p>\n",
       "\n",
       "            <dl>\n",
       "              <dt>Version</dt>\n",
       "                <dd><code>v3.2.0</code></dd>\n",
       "              <dt>Master</dt>\n",
       "                <dd><code>local[*]</code></dd>\n",
       "              <dt>AppName</dt>\n",
       "                <dd><code>PySparkShell</code></dd>\n",
       "            </dl>\n",
       "        </div>\n",
       "        "
      ],
      "text/plain": [
       "<SparkContext master=local[*] appName=PySparkShell>"
      ]
     },
     "execution_count": 1,
     "metadata": {},
     "output_type": "execute_result"
    }
   ],
   "source": [
    "import pyspark\n",
    "spark = pyspark.SQLContext.getOrCreate(sc)\n",
    "sc"
   ]
  },
  {
   "cell_type": "code",
   "execution_count": 2,
   "id": "93c77d39",
   "metadata": {},
   "outputs": [],
   "source": [
    "import os\n",
    "import pyspark\n",
    "from pyspark.sql import SparkSession\n",
    "import pyspark.sql.functions \n",
    "from pyspark.sql.functions import hour, split\n",
    "from pyspark.sql.types import StructType,StructField, StringType, FloatType, IntegerType\n",
    "from pyspark.sql.functions import *"
   ]
  },
  {
   "cell_type": "code",
   "execution_count": 3,
   "id": "6591d7a4",
   "metadata": {},
   "outputs": [
    {
     "data": {
      "text/plain": [
       "<pyspark.conf.SparkConf at 0x7f20b4aa5910>"
      ]
     },
     "execution_count": 3,
     "metadata": {},
     "output_type": "execute_result"
    }
   ],
   "source": [
    "import os\n",
    "import pyspark\n",
    "from pyspark.sql import SparkSession\n",
    "import pyspark.sql.functions \n",
    "from pyspark.sql.functions import hour, split\n",
    "from pyspark.sql.types import StructType,StructField, StringType, FloatType, IntegerType\n",
    "from pyspark.sql.functions import *\n",
    "conf = pyspark.SparkConf()\n",
    "#conf.set('spark.ui.proxyBase', '/user/' + os.environ['JUPYTERHUB_USER'] + '/proxy/4041')\n",
    "conf.set('spark.sql.repl.eagerEval.enabled', True)\n",
    "#sc = pyspark.SparkContext(conf=conf)"
   ]
  },
  {
   "cell_type": "code",
   "execution_count": 4,
   "id": "526686b6",
   "metadata": {},
   "outputs": [],
   "source": [
    "path = '/home/prateek/Prateek/Courses/BigData/Project/data/csv/*'"
   ]
  },
  {
   "cell_type": "code",
   "execution_count": 5,
   "id": "fed59f20",
   "metadata": {},
   "outputs": [],
   "source": [
    "df_a = spark.read.option(\"header\", \"false\").csv(path)"
   ]
  },
  {
   "cell_type": "code",
   "execution_count": 6,
   "id": "68a7c0d6",
   "metadata": {},
   "outputs": [],
   "source": [
    "df_b = spark.read.option(\"header\", \"false\").csv(path)\n",
    "# df_b.count()"
   ]
  },
  {
   "cell_type": "code",
   "execution_count": 7,
   "id": "eec7cc85",
   "metadata": {},
   "outputs": [],
   "source": [
    "# df_b\n",
    "\n",
    "df_f = df_b.withColumnRenamed(\"_c0\",'Id')\n",
    "df_f = df_f.withColumnRenamed(\"_c1\",\"PostTypeId\")\n",
    "df_f = df_f.withColumnRenamed(\"_c2\",\"AcceptedAnswerId\")\n",
    "df_f = df_f.withColumnRenamed(\"_c3\",\"ParentId\")\n",
    "df_f = df_f.withColumnRenamed(\"_c4\",\"CreationDate\")\n",
    "df_f = df_f.withColumnRenamed(\"_c5\",\"DeletionDte\")\n",
    "df_f = df_f.withColumnRenamed(\"_c6\",\"Score\")\n",
    "df_f = df_f.withColumnRenamed(\"_c7\",\"ViewCount\")\n",
    "df_f = df_f.withColumnRenamed(\"_c8\",\"Body\")\n",
    "df_f = df_f.withColumnRenamed(\"_c9\",\"OwnerUserId\")\n",
    "df_f = df_f.withColumnRenamed(\"_c10\",\"OwnerDisplayName\")\n",
    "df_f = df_f.withColumnRenamed(\"_c11\",\"LastEditorUserId\")\n",
    "df_f = df_f.withColumnRenamed(\"_c12\",\"LastEditorDisplayName\")\n",
    "df_f = df_f.withColumnRenamed(\"_c13\",\"LastEditDate\")\n",
    "df_f = df_f.withColumnRenamed(\"_c14\",\"LastActivityDate\")\n",
    "df_f = df_f.withColumnRenamed(\"_c15\",\"Title\")\n",
    "df_f = df_f.withColumnRenamed(\"_c16\",\"Tags\")\n",
    "df_f = df_f.withColumnRenamed(\"_c17\",\"AnswerCount\")\n",
    "df_f = df_f.withColumnRenamed(\"_c18\",\"CommentCount\")\n",
    "df_f = df_f.withColumnRenamed(\"_c19\",\"FavoriteCount\")\n",
    "df_f = df_f.withColumnRenamed(\"_c20\",\"ClosedDate\")\n",
    "df_f = df_f.withColumnRenamed(\"_c21\",\"CommunityOwnedDate\")"
   ]
  },
  {
   "cell_type": "code",
   "execution_count": 8,
   "id": "8ed24403",
   "metadata": {},
   "outputs": [
    {
     "name": "stdout",
     "output_type": "stream",
     "text": [
      "root\n",
      " |-- Id: string (nullable = true)\n",
      " |-- PostTypeId: string (nullable = true)\n",
      " |-- AcceptedAnswerId: string (nullable = true)\n",
      " |-- ParentId: string (nullable = true)\n",
      " |-- CreationDate: string (nullable = true)\n",
      " |-- DeletionDte: string (nullable = true)\n",
      " |-- Score: string (nullable = true)\n",
      " |-- ViewCount: string (nullable = true)\n",
      " |-- Body: string (nullable = true)\n",
      " |-- OwnerUserId: string (nullable = true)\n",
      " |-- OwnerDisplayName: string (nullable = true)\n",
      " |-- LastEditorUserId: string (nullable = true)\n",
      " |-- LastEditorDisplayName: string (nullable = true)\n",
      " |-- LastEditDate: string (nullable = true)\n",
      " |-- LastActivityDate: string (nullable = true)\n",
      " |-- Title: string (nullable = true)\n",
      " |-- Tags: string (nullable = true)\n",
      " |-- AnswerCount: string (nullable = true)\n",
      " |-- CommentCount: string (nullable = true)\n",
      " |-- FavoriteCount: string (nullable = true)\n",
      " |-- ClosedDate: string (nullable = true)\n",
      " |-- CommunityOwnedDate: string (nullable = true)\n",
      "\n"
     ]
    }
   ],
   "source": [
    "df_f.printSchema()"
   ]
  },
  {
   "cell_type": "code",
   "execution_count": 9,
   "id": "1c68f990",
   "metadata": {},
   "outputs": [
    {
     "data": {
      "text/plain": [
       "DataFrame[Id: string, PostTypeId: string, AcceptedAnswerId: string, ParentId: string, CreationDate: string, DeletionDte: string, Score: string, ViewCount: string, Body: string, OwnerUserId: string, OwnerDisplayName: string, LastEditorUserId: string, LastEditorDisplayName: string, LastEditDate: string, LastActivityDate: string, Title: string, Tags: string, AnswerCount: string, CommentCount: string, FavoriteCount: string, ClosedDate: string, CommunityOwnedDate: string]"
      ]
     },
     "execution_count": 9,
     "metadata": {},
     "output_type": "execute_result"
    }
   ],
   "source": [
    "df_f"
   ]
  },
  {
   "cell_type": "code",
   "execution_count": 10,
   "id": "55e31af0",
   "metadata": {},
   "outputs": [],
   "source": [
    "\n",
    "# import os \n",
    "# dir_path = os.path.dirname(os.path.realpath('part-00000'))\n",
    "# # dir_path\n",
    "# p2=os.path.realpath('part-00000')\n",
    "# p2"
   ]
  },
  {
   "cell_type": "code",
   "execution_count": 11,
   "id": "91fbc4b3",
   "metadata": {},
   "outputs": [
    {
     "name": "stderr",
     "output_type": "stream",
     "text": [
      "                                                                                \r"
     ]
    },
    {
     "data": {
      "text/plain": [
       "329563"
      ]
     },
     "execution_count": 11,
     "metadata": {},
     "output_type": "execute_result"
    }
   ],
   "source": [
    "df_f.distinct().count()"
   ]
  },
  {
   "cell_type": "code",
   "execution_count": 12,
   "id": "87c38ccd",
   "metadata": {},
   "outputs": [
    {
     "name": "stderr",
     "output_type": "stream",
     "text": [
      "[Stage 8:==================================================>      (15 + 2) / 17]\r"
     ]
    },
    {
     "name": "stdout",
     "output_type": "stream",
     "text": [
      "+------+-----+\n",
      "|    Id|count|\n",
      "+------+-----+\n",
      "|102521|    2|\n",
      "|102539|    2|\n",
      "|102952|    2|\n",
      "|103123|    2|\n",
      "|104344|    2|\n",
      "|104603|    2|\n",
      "|105344|    2|\n",
      "|106022|    2|\n",
      "|106688|    2|\n",
      "|106768|    2|\n",
      "|108456|    2|\n",
      "|108800|    2|\n",
      "|109653|    2|\n",
      "|109818|    2|\n",
      "|110071|    2|\n",
      "|110629|    2|\n",
      "|111919|    2|\n",
      "|111982|    2|\n",
      "|112480|    2|\n",
      "|112911|    2|\n",
      "+------+-----+\n",
      "only showing top 20 rows\n",
      "\n"
     ]
    },
    {
     "name": "stderr",
     "output_type": "stream",
     "text": [
      "                                                                                \r"
     ]
    }
   ],
   "source": [
    "df_f.groupBy(\"Id\").count().where(\"count > 1\").show()\n"
   ]
  },
  {
   "cell_type": "code",
   "execution_count": 13,
   "id": "c84c9963",
   "metadata": {},
   "outputs": [],
   "source": [
    "df_f.createOrReplaceTempView(\"df_f\")"
   ]
  },
  {
   "cell_type": "code",
   "execution_count": 14,
   "id": "4ab037be",
   "metadata": {},
   "outputs": [],
   "source": [
    "# df a,b,c, used to check if the duplicate ids from se and cs have relevent posts\n",
    "a = spark.sql(\"Select Body from df_f where Id like '129005'\")"
   ]
  },
  {
   "cell_type": "code",
   "execution_count": 15,
   "id": "a9512270",
   "metadata": {},
   "outputs": [
    {
     "name": "stdout",
     "output_type": "stream",
     "text": [
      "+------------------------------------------------------------------------------------------------------------------------------------------------------------------------------------------------------------------------------------------------------------------------------------------------------------------------------------------------------------------------------------------------------------------------------------------------------------------------------------------------------------------------------------------------------------------------------------------------------------------------------------------------------------------------------------------------------------------------------------------------------------------------------------------------------------------------------------------------------------------------------------------------------------------------------------------------------------------------------------------------------------------------------------------------------------------------------------------------------------------------------------------------------------------------------------------------------------------------------------------------------------------------------------------------------------------------------------------------------------------------------------------------------------------------------------------------------------------------------------------------------------------------------------------------------------------------------------------------------------------------------------------------------------------------------------------------------------------------------------------------------------------------------------------------------------------------------------------------------------------------------------------------------------------------------------------------------------------------------------------------------------------------------------------------------------------------------------------------------------------------------------------------------------------------------------------------------------------------------------------------------------------------------------------------------------------------------------------------------------------------------------------------------------------------------------------------------------------------------------------------------------------------------------------------------------------------------------------------------------------------------------------------------------------------------------------------------------------------------------------------------------------------------------------------------------------------------------------------------------------------------------------------------------------------------------------------------------------------------------------------------------------------------------------------------------------------------------------------------------------------------------------------------------------------------------------------------------------------------------------------------------------------------------------------------------------------------------------------------------------------------------------------------------------------------------------------------------------------------------------------------------------------------------------------------------------------------------------------------------------------------------------------------------------------------------------------------------------------------------------------------------------------------------------------------------------------------------------------------------------------------------------------------------------------------+\n",
      "|Body                                                                                                                                                                                                                                                                                                                                                                                                                                                                                                                                                                                                                                                                                                                                                                                                                                                                                                                                                                                                                                                                                                                                                                                                                                                                                                                                                                                                                                                                                                                                                                                                                                                                                                                                                                                                                                                                                                                                                                                                                                                                                                                                                                                                                                                                                                                                                                                                                                                                                                                                                                                                                                                                                                                                                                                                                                                                                                                                                                                                                                                                                                                                                                                                                                                                                                                                                                                                                                                                                                                                                                                                                                                                                                                                                                                                                                                                                                                          |\n",
      "+------------------------------------------------------------------------------------------------------------------------------------------------------------------------------------------------------------------------------------------------------------------------------------------------------------------------------------------------------------------------------------------------------------------------------------------------------------------------------------------------------------------------------------------------------------------------------------------------------------------------------------------------------------------------------------------------------------------------------------------------------------------------------------------------------------------------------------------------------------------------------------------------------------------------------------------------------------------------------------------------------------------------------------------------------------------------------------------------------------------------------------------------------------------------------------------------------------------------------------------------------------------------------------------------------------------------------------------------------------------------------------------------------------------------------------------------------------------------------------------------------------------------------------------------------------------------------------------------------------------------------------------------------------------------------------------------------------------------------------------------------------------------------------------------------------------------------------------------------------------------------------------------------------------------------------------------------------------------------------------------------------------------------------------------------------------------------------------------------------------------------------------------------------------------------------------------------------------------------------------------------------------------------------------------------------------------------------------------------------------------------------------------------------------------------------------------------------------------------------------------------------------------------------------------------------------------------------------------------------------------------------------------------------------------------------------------------------------------------------------------------------------------------------------------------------------------------------------------------------------------------------------------------------------------------------------------------------------------------------------------------------------------------------------------------------------------------------------------------------------------------------------------------------------------------------------------------------------------------------------------------------------------------------------------------------------------------------------------------------------------------------------------------------------------------------------------------------------------------------------------------------------------------------------------------------------------------------------------------------------------------------------------------------------------------------------------------------------------------------------------------------------------------------------------------------------------------------------------------------------------------------------------------------------------------+\n",
      "|&lt;p&gt;Also, you state that you're considering using Python for your GUI, but I've not heard that Python's GUI tools are any better than Java's Swing library, one that I feel is quite powerful if you know it well and can be used to good effect. &lt;/p&gt;&#xA;&#xA;&lt;p&gt;If anyone has hard data that suggests I'm wrong, please post the link. I'm all about learning.&lt;/p&gt;&#xA;                                                                                                                                                                                                                                                                                                                                                                                                                                                                                                                                                                                                                                                                                                                                                                                                                                                                                                                                                                                                                                                                                                                                                                                                                                                                                                                                                                                                                                                                                                                                                                                                                                                                                                                                                                                                                                                                                                                                                                                                                                                                                                                                                                                                                                                                                                                                                                                                                                                                                                                                                                                                                                                                                                                                                                                                                                                                                                                                                                                                                                                                                                                                                                                                                                                                                                                                                                                                                                                                                                                             |\n",
      "|&lt;h1&gt;Impossibility result #1: dropped events&lt;/h1&gt;&#xA;&lt;p&gt;The problem cannot be solved in general; there is no way to guarantee that your requirements will be met if some events are dropped (i.e., not received).  Consider first this stream:&lt;/p&gt;&#xA;&lt;pre&gt;&lt;code&gt;e1 = { name: Jhon, timestamp: 1 }&#xA;e2 = { name: Jhon, timestamp: 4 }&#xA;&lt;/code&gt;&lt;/pre&gt;&#xA;&lt;p&gt;where the algorithm sees both events.  Next, consider this stream:&lt;/p&gt;&#xA;&lt;pre&gt;&lt;code&gt;e1' = { name: Jhon, timestamp: 1 }&#xA;e2' = { name: Pete, timestamp: 2 }&#xA;e3' = { name: Jhon, timestamp: 3 }&#xA;e4' = { name: Jhon, timestamp: 4 }&#xA;&lt;/code&gt;&lt;/pre&gt;&#xA;&lt;p&gt;where the algorithm sees only the events &lt;code&gt;e1'&lt;/code&gt;,&lt;code&gt;e4'&lt;/code&gt; (the other events are lost and never received).  You might notice that what the algorithm sees in both cases is identical, so its outputs will be identical in both cases.  However, the correct answer differs in these two cases, so there is no hope for an algorithm that always produces a correct output.  (The correct response in the first case is to produce no notifications; the correct response in the second case is to produce two notifications, one to indicate that the predicate is false after receiving &lt;code&gt;e2'&lt;/code&gt;, and one to indicate that the predicate is true after receiving &lt;code&gt;e3'&lt;/code&gt;.)&lt;/p&gt;&#xA;&lt;p&gt;It is not clear how to adapt the requirements to deal with this situation.  The only plausible solution I can see is to say that the notifications that are produced should depend only on the received events, not on the events that are sent.  This is equivalent to specifying that events cannot be dropped.&lt;/p&gt;&#xA;&lt;h1&gt;Impossibility result #2: re-ordered events&lt;/h1&gt;&#xA;&lt;p&gt;You state that you must be able to handle re-ordered events, without storing all events in memory, and with arbitrary re-ordering. However, these requirements are incompatible: that is impossible to achieve.  Consider a long sequence of events with timestamps 2,4,6,8,10,12,...  At the end of the long sequence of events, if an event with an odd timestamp arrives, the only way to be sure you can handle it correctly is to store the entire history of past events (or past states of the object).&lt;/p&gt;&#xA;&lt;p&gt;So, you're going to have to relax the requirement about re-ordering as well.  Perhaps you're willing to store all events in memory forevermore.  (If so, you have a solution.)  Perhaps you are willing to impose a bound on re-ordering, e.g., no event will be delayed by more than 10 minutes.  (If so, you only have to store history for the past 10 minutes, and everything older can be deleted.)  Perhaps something else makes more sense in your particular situation.&lt;/p&gt;&#xA;&lt;p&gt;But the one thing that is not an option is to impose all of the strong requirements stated in your question, and require an algorithm that is always correct.&lt;/p&gt;&#xA;&lt;hr /&gt;&#xA;&lt;p&gt;I'm not aware of any literature on this and I don't particularly see any reason to expect there to be any.  It's a very specific set of requirements, and it looks to me like the resulting task is either trivial or impossible to solve.  Those usually aren't the kind of problems that tend to be studied in the literature.  Perhaps you might be interested in &lt;a href=&quot;https://en.wikipedia.org/wiki/Persistent_data_structure&quot; rel=&quot;nofollow noreferrer&quot;&gt;persistent data structures&lt;/a&gt;, but that's just a fancy way of storing the entire history of events, which you said you want to do; and you don't need a fancy data structure to do that in your particular situation.&lt;/p&gt;&#xA;|\n",
      "+------------------------------------------------------------------------------------------------------------------------------------------------------------------------------------------------------------------------------------------------------------------------------------------------------------------------------------------------------------------------------------------------------------------------------------------------------------------------------------------------------------------------------------------------------------------------------------------------------------------------------------------------------------------------------------------------------------------------------------------------------------------------------------------------------------------------------------------------------------------------------------------------------------------------------------------------------------------------------------------------------------------------------------------------------------------------------------------------------------------------------------------------------------------------------------------------------------------------------------------------------------------------------------------------------------------------------------------------------------------------------------------------------------------------------------------------------------------------------------------------------------------------------------------------------------------------------------------------------------------------------------------------------------------------------------------------------------------------------------------------------------------------------------------------------------------------------------------------------------------------------------------------------------------------------------------------------------------------------------------------------------------------------------------------------------------------------------------------------------------------------------------------------------------------------------------------------------------------------------------------------------------------------------------------------------------------------------------------------------------------------------------------------------------------------------------------------------------------------------------------------------------------------------------------------------------------------------------------------------------------------------------------------------------------------------------------------------------------------------------------------------------------------------------------------------------------------------------------------------------------------------------------------------------------------------------------------------------------------------------------------------------------------------------------------------------------------------------------------------------------------------------------------------------------------------------------------------------------------------------------------------------------------------------------------------------------------------------------------------------------------------------------------------------------------------------------------------------------------------------------------------------------------------------------------------------------------------------------------------------------------------------------------------------------------------------------------------------------------------------------------------------------------------------------------------------------------------------------------------------------------------------------------------------------------+\n",
      "\n"
     ]
    }
   ],
   "source": [
    "a.show(truncate=False)"
   ]
  },
  {
   "cell_type": "code",
   "execution_count": 16,
   "id": "2994127d",
   "metadata": {},
   "outputs": [],
   "source": [
    "b = spark.sql(\"Select Body from df_f where Id like '129080'\")"
   ]
  },
  {
   "cell_type": "code",
   "execution_count": 17,
   "id": "a186a079",
   "metadata": {},
   "outputs": [
    {
     "name": "stdout",
     "output_type": "stream",
     "text": [
      "+--------------------------------------------------------------------------------------------------------------------------------------------------------------------------------------------------------------------------------------------------------------------------------------------------------------------------------------------------------------------------------------------------------------------------------------------------------------------------------------------------------------------------------------------------------------------------------------------------------------------------------------------------------------------------------------------------------------------------------------------------------------------------------------------------------------------------------------------------------------------------------------------------------------------------------------------------------------------------------------------------------------------------------+\n",
      "|Body                                                                                                                                                                                                                                                                                                                                                                                                                                                                                                                                                                                                                                                                                                                                                                                                                                                                                                                                                                                                                            |\n",
      "+--------------------------------------------------------------------------------------------------------------------------------------------------------------------------------------------------------------------------------------------------------------------------------------------------------------------------------------------------------------------------------------------------------------------------------------------------------------------------------------------------------------------------------------------------------------------------------------------------------------------------------------------------------------------------------------------------------------------------------------------------------------------------------------------------------------------------------------------------------------------------------------------------------------------------------------------------------------------------------------------------------------------------------+\n",
      "|&lt;p&gt;To cut a long story short, (since this question for some reason is not getting closed,) interfaces are essential for single-inheritance languages like Java and C# because that's the only way in which you can aggregate different behaviors into a single class.&lt;/p&gt;&#xA;&#xA;&lt;p&gt;In other words, when you write class A which expects to be passed a reference to some B thing to work with, it helps if you declare B to be an interface and not an abstract class, because if it is a class then you will be forcing the author of class C who wants to write C so that it works with your A to derive their class from class B, while they may have other plans for it, which may demand that C derives from some other class D, which you may have never heard of. By writing A so that it accepts an interface of type B instead of an abstract class B, the author of C is free to derive his class from D and also implement interface B for the sake of working with your class A.&lt;/p&gt;&#xA;|\n",
      "|&lt;p&gt;So the way I usually simulate these kind of trees on paper is that I make a node &lt;strong&gt;for every move&lt;/strong&gt;. So from &lt;strong&gt;starting&lt;/strong&gt;(parent) node I make one &lt;strong&gt;node&lt;/strong&gt;(child) for &lt;strong&gt;Up&lt;/strong&gt;, one node for Down and you know the rest.&lt;/p&gt;&#xA;&lt;p&gt;Once it moves to that new space &lt;strong&gt;reevaluate&lt;/strong&gt; again and make more nodes using that new space in the grid. Hope this helps!&lt;/p&gt;&#xA;                                                                                                                                                                                                                                                                                                                                                                                                                                                                                                  |\n",
      "+--------------------------------------------------------------------------------------------------------------------------------------------------------------------------------------------------------------------------------------------------------------------------------------------------------------------------------------------------------------------------------------------------------------------------------------------------------------------------------------------------------------------------------------------------------------------------------------------------------------------------------------------------------------------------------------------------------------------------------------------------------------------------------------------------------------------------------------------------------------------------------------------------------------------------------------------------------------------------------------------------------------------------------+\n",
      "\n"
     ]
    }
   ],
   "source": [
    "b.show(truncate=False)"
   ]
  },
  {
   "cell_type": "code",
   "execution_count": 18,
   "id": "695a3faa",
   "metadata": {},
   "outputs": [],
   "source": [
    "c = spark.sql(\"Select Body from df_f where Id like '41785'\")"
   ]
  },
  {
   "cell_type": "code",
   "execution_count": 19,
   "id": "68d6fbb1",
   "metadata": {},
   "outputs": [
    {
     "name": "stdout",
     "output_type": "stream",
     "text": [
      "+----------------------------------------------------------------------------------------------------------------------------------------------------------------------------------------------------------------------------------------------------------------+\n",
      "|Body                                                                                                                                                                                                                                                            |\n",
      "+----------------------------------------------------------------------------------------------------------------------------------------------------------------------------------------------------------------------------------------------------------------+\n",
      "|&lt;p&gt;What is the intuition behind the &lt;em&gt;max-flow min-cut theorem&lt;/em&gt;? &lt;/p&gt;&#xA;&#xA;&lt;p&gt;I know that the min-cut is the dual of max-flow when formulated as a linear program, but the result seems artificial to me.&lt;/p&gt;&#xA;|\n",
      "|&lt;p&gt;If you are a dev who is moving up the food chain, then &lt;a href=&quot;http://rads.stackoverflow.com/amzn/click/1590590171&quot; rel=&quot;nofollow&quot;&gt;Herding Cats&lt;/a&gt; is a great read aimed at that situation.&lt;/p&gt;&#xA;           |\n",
      "+----------------------------------------------------------------------------------------------------------------------------------------------------------------------------------------------------------------------------------------------------------------+\n",
      "\n"
     ]
    }
   ],
   "source": [
    "c.show(truncate=False)"
   ]
  },
  {
   "cell_type": "code",
   "execution_count": 20,
   "id": "529dbda5",
   "metadata": {},
   "outputs": [],
   "source": [
    "from pyspark.sql.window import Window\n",
    "\n",
    "from pyspark.sql.functions import monotonically_increasing_id,row_number\n",
    "\n",
    "df =df_f.withColumn(\"row_idx\",row_number().over(Window.orderBy(monotonically_increasing_id())))\n"
   ]
  },
  {
   "cell_type": "code",
   "execution_count": 21,
   "id": "e86e0fb2",
   "metadata": {},
   "outputs": [
    {
     "data": {
      "text/plain": [
       "DataFrame[Id: string, PostTypeId: string, AcceptedAnswerId: string, ParentId: string, CreationDate: string, DeletionDte: string, Score: string, ViewCount: string, Body: string, OwnerUserId: string, OwnerDisplayName: string, LastEditorUserId: string, LastEditorDisplayName: string, LastEditDate: string, LastActivityDate: string, Title: string, Tags: string, AnswerCount: string, CommentCount: string, FavoriteCount: string, ClosedDate: string, CommunityOwnedDate: string, row_idx: int]"
      ]
     },
     "execution_count": 21,
     "metadata": {},
     "output_type": "execute_result"
    }
   ],
   "source": [
    "df\n"
   ]
  },
  {
   "cell_type": "code",
   "execution_count": 22,
   "id": "52207daa",
   "metadata": {},
   "outputs": [
    {
     "name": "stderr",
     "output_type": "stream",
     "text": [
      "22/05/10 17:26:13 WARN WindowExec: No Partition Defined for Window operation! Moving all data to a single partition, this can cause serious performance degradation.\n",
      "22/05/10 17:26:13 WARN WindowExec: No Partition Defined for Window operation! Moving all data to a single partition, this can cause serious performance degradation.\n"
     ]
    }
   ],
   "source": [
    "#CHECKING IF MAX OF ID = number of ROWS\n",
    "row1 = df.agg({\"row_idx\": \"max\"}).collect()[0]"
   ]
  },
  {
   "cell_type": "code",
   "execution_count": 23,
   "id": "d0b75798",
   "metadata": {},
   "outputs": [
    {
     "name": "stdout",
     "output_type": "stream",
     "text": [
      "Row(max(row_idx)=329564)\n"
     ]
    }
   ],
   "source": [
    "print(row1)"
   ]
  },
  {
   "cell_type": "code",
   "execution_count": 24,
   "id": "2e49a495",
   "metadata": {},
   "outputs": [
    {
     "data": {
      "text/plain": [
       "DataFrame[Id: string, PostTypeId: string, AcceptedAnswerId: string, ParentId: string, CreationDate: string, Score: string, ViewCount: string, Body: string, OwnerUserId: string, LastActivityDate: string, Title: string, Tags: string, AnswerCount: string, CommentCount: string, FavoriteCount: string, ClosedDate: string, row_idx: int]"
      ]
     },
     "execution_count": 24,
     "metadata": {},
     "output_type": "execute_result"
    }
   ],
   "source": [
    "df = df.drop('DeletionDte','OwnerDisplayName','LastEditorUserId','LastEditorDisplayName','LastEditDate','CommunityOwnedDate')\n",
    "df"
   ]
  },
  {
   "cell_type": "markdown",
   "id": "31614e38",
   "metadata": {},
   "source": [
    "### Number of questions per day(should be able to visualise by month)\n"
   ]
  },
  {
   "cell_type": "code",
   "execution_count": 28,
   "id": "b6979b05",
   "metadata": {},
   "outputs": [
    {
     "name": "stdout",
     "output_type": "stream",
     "text": [
      "+-----------------------+-----------------------+\n",
      "|CreationDate           |LastActivityDate       |\n",
      "+-----------------------+-----------------------+\n",
      "|2020-01-13T18:07:16.117|2020-01-13T18:16:07.273|\n",
      "|2020-01-13T18:33:08.313|2020-12-26T23:05:10.580|\n",
      "|2020-01-13T20:09:24.470|2020-01-13T21:53:23.973|\n",
      "|2020-01-13T20:19:41.633|2020-01-13T20:19:41.633|\n",
      "|2020-01-13T21:27:55.107|2020-01-13T21:53:23.973|\n",
      "|2020-01-13T23:04:32.510|2020-01-13T23:04:32.510|\n",
      "|2020-01-13T23:37:53.120|2020-01-13T23:37:53.120|\n",
      "|2020-01-14T00:01:03.337|2020-01-14T00:01:03.337|\n",
      "|2020-01-14T00:11:48.583|2020-01-14T00:11:48.583|\n",
      "|2020-01-14T01:15:06.153|2020-01-14T13:25:37.800|\n",
      "|2020-01-14T03:35:24.670|2020-01-14T03:35:24.670|\n",
      "|2020-01-14T06:25:22.260|2020-01-14T06:25:22.260|\n",
      "|2020-01-14T07:27:05.800|2020-01-15T10:41:19.673|\n",
      "|2020-01-14T07:42:59.990|2020-01-14T07:42:59.990|\n",
      "|2020-01-14T08:50:54.023|2020-01-14T08:50:54.023|\n",
      "|2020-01-14T09:02:07.443|2020-01-14T09:02:07.443|\n",
      "|2020-01-14T09:10:26.393|2020-01-15T10:41:19.673|\n",
      "|2020-01-14T09:21:25.550|2020-01-14T09:21:25.550|\n",
      "|2020-01-14T09:29:15.373|2020-01-14T10:15:53.710|\n",
      "|2020-01-14T10:15:53.710|2020-01-14T10:15:53.710|\n",
      "+-----------------------+-----------------------+\n",
      "only showing top 20 rows\n",
      "\n"
     ]
    }
   ],
   "source": [
    "df.select(\"CreationDate\",\"LastActivityDate\").show(truncate=False)"
   ]
  },
  {
   "cell_type": "code",
   "execution_count": 29,
   "id": "159df188",
   "metadata": {},
   "outputs": [],
   "source": [
    "# Removing extra T\n",
    "df = df.withColumn('CreationDate', regexp_replace('CreationDate', 'T', ' '))\n",
    "df = df.withColumn('LastActivityDate', regexp_replace('LastActivityDate', 'T', ' '))\n"
   ]
  },
  {
   "cell_type": "code",
   "execution_count": 30,
   "id": "d182b402",
   "metadata": {},
   "outputs": [
    {
     "data": {
      "text/plain": [
       "DataFrame[Id: string, PostTypeId: string, AcceptedAnswerId: string, ParentId: string, CreationDate: string, Score: string, ViewCount: string, Body: string, OwnerUserId: string, LastActivityDate: string, Title: string, Tags: string, AnswerCount: string, CommentCount: string, FavoriteCount: string, ClosedDate: string, row_idx: int]"
      ]
     },
     "execution_count": 30,
     "metadata": {},
     "output_type": "execute_result"
    }
   ],
   "source": [
    "df"
   ]
  },
  {
   "cell_type": "code",
   "execution_count": 31,
   "id": "6702eec2",
   "metadata": {},
   "outputs": [
    {
     "data": {
      "text/plain": [
       "DataFrame[Id: string, PostTypeId: string, AcceptedAnswerId: string, ParentId: string, CreationDate: string, Score: string, ViewCount: string, Body: string, OwnerUserId: string, LastActivityDate: string, Title: string, Tags: string, AnswerCount: string, CommentCount: string, FavoriteCount: string, ClosedDate: string, row_idx: int, CreationYear: int, CreationMonth: int]"
      ]
     },
     "execution_count": 31,
     "metadata": {},
     "output_type": "execute_result"
    }
   ],
   "source": [
    "\n",
    "# to create year and month columns for visualizations\n",
    "\n",
    "from pyspark.sql.functions import year\n",
    "from pyspark.sql.functions import to_date\n",
    "from pyspark.sql.functions import to_timestamp,date_format\n",
    "from pyspark.sql.functions import col\n",
    " \n",
    "df2 = df.withColumn('CreationYear',year(df.CreationDate))\n",
    "df2 = df2.withColumn('CreationMonth',month(df2.CreationDate))\n",
    "\n",
    "#### Get day from date: day of month - NOT WORKING\n",
    " \n",
    "df2.withColumn(\"CreationDate\",to_timestamp(col(\"CreationDate\"))).withColumn(\"D_O_M\", date_format(col(\"CreationDate\"), \"d\"))\n",
    "df2\n",
    "\n",
    "\n"
   ]
  },
  {
   "cell_type": "code",
   "execution_count": 32,
   "id": "b7abe949",
   "metadata": {},
   "outputs": [
    {
     "data": {
      "text/plain": [
       "329564"
      ]
     },
     "execution_count": 32,
     "metadata": {},
     "output_type": "execute_result"
    }
   ],
   "source": [
    "df2.count()"
   ]
  },
  {
   "cell_type": "code",
   "execution_count": 33,
   "id": "bd88ef91",
   "metadata": {},
   "outputs": [
    {
     "data": {
      "text/plain": [
       "DataFrame[Id: string, PostTypeId: string, AcceptedAnswerId: string, ParentId: string, CreationDate: string, Score: string, ViewCount: string, Body: string, OwnerUserId: string, LastActivityDate: string, Title: string, Tags: string, AnswerCount: string, CommentCount: string, FavoriteCount: string, ClosedDate: string, row_idx: int, CreationYear: int, CreationMonth: int]"
      ]
     },
     "execution_count": 33,
     "metadata": {},
     "output_type": "execute_result"
    }
   ],
   "source": [
    "\n",
    "# Filtering for Questions\n",
    "df3 = df2.filter(col(\"PostTypeId\").like(\"1\"))\n",
    "df3\n"
   ]
  },
  {
   "cell_type": "markdown",
   "id": "65e0bc8a",
   "metadata": {},
   "source": [
    "### Number of Answers per day (should be able to visualise by month)"
   ]
  },
  {
   "cell_type": "code",
   "execution_count": 34,
   "id": "fa33a135",
   "metadata": {},
   "outputs": [
    {
     "data": {
      "text/plain": [
       "DataFrame[Id: string, PostTypeId: string, AcceptedAnswerId: string, ParentId: string, CreationDate: string, Score: string, ViewCount: string, Body: string, OwnerUserId: string, LastActivityDate: string, Title: string, Tags: string, AnswerCount: string, CommentCount: string, FavoriteCount: string, ClosedDate: string, row_idx: int, CreationYear: int, CreationMonth: int]"
      ]
     },
     "execution_count": 34,
     "metadata": {},
     "output_type": "execute_result"
    }
   ],
   "source": [
    "# Filtering for Answers\n",
    "df4 = df2.filter(col(\"PostTypeId\").like(\"2\"))\n",
    "df4\n"
   ]
  },
  {
   "cell_type": "markdown",
   "id": "26064971",
   "metadata": {},
   "source": [
    "### For Accepted Answers"
   ]
  },
  {
   "cell_type": "code",
   "execution_count": 35,
   "id": "988574d0",
   "metadata": {},
   "outputs": [
    {
     "name": "stdout",
     "output_type": "stream",
     "text": [
      "+-----------+\n",
      "|AnswerCount|\n",
      "+-----------+\n",
      "|          7|\n",
      "|         11|\n",
      "|          3|\n",
      "|          8|\n",
      "|         22|\n",
      "|          0|\n",
      "|       null|\n",
      "|          5|\n",
      "|         17|\n",
      "|          6|\n",
      "|          9|\n",
      "|          1|\n",
      "|         10|\n",
      "|          4|\n",
      "|         12|\n",
      "|          2|\n",
      "|         15|\n",
      "|         13|\n",
      "|         14|\n",
      "|         16|\n",
      "+-----------+\n",
      "only showing top 20 rows\n",
      "\n"
     ]
    }
   ],
   "source": [
    "\n",
    "df_temp1 = df2.filter(col(\"AcceptedAnswerId\").isNull())\n",
    "df_temp1\n",
    "df_temp1.select(\"AnswerCount\").distinct().show()\n",
    "## ANSWER COUNT MAY NOT BE 0 FOR RECORDS WITH No Accepted answers(i.e.null)\n"
   ]
  },
  {
   "cell_type": "code",
   "execution_count": 36,
   "id": "abe6930e",
   "metadata": {},
   "outputs": [
    {
     "data": {
      "text/plain": [
       "DataFrame[Id: string, PostTypeId: string, AcceptedAnswerId: string, ParentId: string, CreationDate: string, Score: string, ViewCount: string, Body: string, OwnerUserId: string, LastActivityDate: string, Title: string, Tags: string, AnswerCount: string, CommentCount: string, FavoriteCount: string, ClosedDate: string, row_idx: int, CreationYear: int, CreationMonth: int]"
      ]
     },
     "execution_count": 36,
     "metadata": {},
     "output_type": "execute_result"
    }
   ],
   "source": [
    "df5 = df2.filter(col(\"AcceptedAnswerId\").isNotNull())\n",
    "df5"
   ]
  },
  {
   "cell_type": "markdown",
   "id": "e572d57a",
   "metadata": {},
   "source": [
    "### For unaccepted answers"
   ]
  },
  {
   "cell_type": "code",
   "execution_count": 37,
   "id": "e06ce82c",
   "metadata": {},
   "outputs": [
    {
     "data": {
      "text/plain": [
       "DataFrame[Id: string, PostTypeId: string, AcceptedAnswerId: string, ParentId: string, CreationDate: string, Score: string, ViewCount: string, Body: string, OwnerUserId: string, LastActivityDate: string, Title: string, Tags: string, AnswerCount: string, CommentCount: string, FavoriteCount: string, ClosedDate: string, row_idx: int, CreationYear: int, CreationMonth: int]"
      ]
     },
     "execution_count": 37,
     "metadata": {},
     "output_type": "execute_result"
    }
   ],
   "source": [
    "df6 = df2.filter(col(\"AcceptedAnswerId\").isNull())\n",
    "df6"
   ]
  },
  {
   "cell_type": "markdown",
   "id": "c44b7810",
   "metadata": {},
   "source": [
    "### Average View Count of a question.\n"
   ]
  },
  {
   "cell_type": "code",
   "execution_count": 38,
   "id": "7e7d62a2",
   "metadata": {},
   "outputs": [],
   "source": [
    "from pyspark.sql import functions as F\n",
    "from pyspark.sql.functions import col\n",
    "\n",
    "c = col('')\n",
    "\n",
    "df2 = df2 \\\n",
    "    .withColumn('Body', F.regexp_replace('Body', '\\&lt;p\\&gt;', ' '))\n",
    "df2 = df2 \\\n",
    "    .withColumn('Body', F.regexp_replace('Body', '[^a-zA-Z ]+',' '))\n",
    "# sodata = sodata \\\n",
    "#     .withColumn('Tags', F.regexp_replace('Tags', '[\\&lt;p\\&gt;]', ' '))\n",
    "df2 = df2 \\\n",
    "    .withColumn('Tags', F.regexp_replace('Tags', '\\&lt;', ' '))\n",
    "df2 = df2 \\\n",
    "    .withColumn('Tags', F.regexp_replace('Tags', '\\&gt;', ' '))\n",
    "\n",
    "df2 = df2 \\\n",
    "    .withColumn('Tags', F.regexp_replace('Tags', '[^a-zA-Z ]+',' '))"
   ]
  },
  {
   "cell_type": "code",
   "execution_count": 39,
   "id": "cc94789d",
   "metadata": {},
   "outputs": [
    {
     "data": {
      "text/plain": [
       "DataFrame[Id: string, PostTypeId: string, AcceptedAnswerId: string, ParentId: string, CreationDate: string, Score: string, ViewCount: int, Body: string, OwnerUserId: string, LastActivityDate: string, Title: string, Tags: string, AnswerCount: string, CommentCount: string, FavoriteCount: string, ClosedDate: string, row_idx: int, CreationYear: int, CreationMonth: int]"
      ]
     },
     "execution_count": 39,
     "metadata": {},
     "output_type": "execute_result"
    }
   ],
   "source": [
    "dfViewCount = df2.withColumn(\"ViewCount\",col(\"ViewCount\").cast(IntegerType()))\n",
    "dfViewCount = dfViewCount.na.fill(value=0,subset=[\"ViewCOunt\"])\n",
    "dfViewCount\n",
    "\n"
   ]
  },
  {
   "cell_type": "markdown",
   "id": "f74afd05",
   "metadata": {},
   "source": [
    "### Number of questions with no answers.\n"
   ]
  },
  {
   "cell_type": "code",
   "execution_count": 40,
   "id": "95f6b9a0",
   "metadata": {},
   "outputs": [
    {
     "data": {
      "text/plain": [
       "DataFrame[Id: string, PostTypeId: string, AcceptedAnswerId: string, ParentId: string, CreationDate: string, Score: string, ViewCount: int, Body: string, OwnerUserId: string, LastActivityDate: string, Title: string, Tags: string, AnswerCount: int, CommentCount: string, FavoriteCount: string, ClosedDate: string, row_idx: int, CreationYear: int, CreationMonth: int]"
      ]
     },
     "execution_count": 40,
     "metadata": {},
     "output_type": "execute_result"
    }
   ],
   "source": [
    "dfAnswerCount = dfViewCount.withColumn(\"AnswerCount\",col(\"AnswerCount\").cast(IntegerType()))\n",
    "dfAnswerCount = dfAnswerCount.na.fill(value=0,subset=[\"AnswerCount\"])\n",
    "dfAnswerCountZero = dfAnswerCount.filter(df.AnswerCount == 0)\n",
    "dfAnswerCountZero"
   ]
  },
  {
   "cell_type": "markdown",
   "id": "61a1725c",
   "metadata": {},
   "source": [
    "### Tags related data"
   ]
  },
  {
   "cell_type": "code",
   "execution_count": 41,
   "id": "c54143d8",
   "metadata": {},
   "outputs": [],
   "source": [
    "dfTags = dfViewCount.filter(col(\"Tags\").isNull())"
   ]
  },
  {
   "cell_type": "code",
   "execution_count": 42,
   "id": "df2d030d",
   "metadata": {},
   "outputs": [
    {
     "data": {
      "text/plain": [
       "DataFrame[Id: string, PostTypeId: string, AcceptedAnswerId: string, ParentId: string, CreationDate: string, Score: string, ViewCount: int, Body: string, OwnerUserId: string, LastActivityDate: string, Title: string, Tags: string, AnswerCount: string, CommentCount: string, FavoriteCount: string, ClosedDate: string, row_idx: int, CreationYear: int, CreationMonth: int]"
      ]
     },
     "execution_count": 42,
     "metadata": {},
     "output_type": "execute_result"
    }
   ],
   "source": [
    "\n",
    "dfTags = dfViewCount.na.fill(value=\"untagged\",subset=[\"Tags\"])\n",
    "dfTags"
   ]
  },
  {
   "cell_type": "code",
   "execution_count": 43,
   "id": "3c725a00",
   "metadata": {},
   "outputs": [],
   "source": [
    "from elasticsearch import Elasticsearch\n",
    "import json"
   ]
  },
  {
   "cell_type": "code",
   "execution_count": 44,
   "id": "55bb5ea2",
   "metadata": {},
   "outputs": [],
   "source": [
    "es = Elasticsearch()"
   ]
  },
  {
   "cell_type": "code",
   "execution_count": 45,
   "id": "d8b76d5f",
   "metadata": {},
   "outputs": [
    {
     "data": {
      "text/plain": [
       "{'name': 'prateek-Alienware-15-R4',\n",
       " 'cluster_name': 'elasticsearch',\n",
       " 'cluster_uuid': 'ueLnssWAQyG9SKIlOG9dwQ',\n",
       " 'version': {'number': '8.2.0',\n",
       "  'build_flavor': 'default',\n",
       "  'build_type': 'deb',\n",
       "  'build_hash': 'b174af62e8dd9f4ac4d25875e9381ffe2b9282c5',\n",
       "  'build_date': '2022-04-20T10:35:10.180408517Z',\n",
       "  'build_snapshot': False,\n",
       "  'lucene_version': '9.1.0',\n",
       "  'minimum_wire_compatibility_version': '7.17.0',\n",
       "  'minimum_index_compatibility_version': '7.0.0'},\n",
       " 'tagline': 'You Know, for Search'}"
      ]
     },
     "execution_count": 45,
     "metadata": {},
     "output_type": "execute_result"
    }
   ],
   "source": [
    "es.info(pretty=True)"
   ]
  },
  {
   "cell_type": "code",
   "execution_count": 47,
   "id": "9313dfc4",
   "metadata": {},
   "outputs": [
    {
     "name": "stderr",
     "output_type": "stream",
     "text": [
      "22/05/10 03:54:44 WARN WindowExec: No Partition Defined for Window operation! Moving all data to a single partition, this can cause serious performance degradation.\n",
      "22/05/10 03:54:44 WARN WindowExec: No Partition Defined for Window operation! Moving all data to a single partition, this can cause serious performance degradation.\n",
      "22/05/10 03:54:46 WARN WindowExec: No Partition Defined for Window operation! Moving all data to a single partition, this can cause serious performance degradation.\n",
      "                                                                                \r"
     ]
    }
   ],
   "source": [
    "dfTags.write.format(\"es\").save(\"stackoverflow_index\")"
   ]
  }
 ],
 "metadata": {
  "kernelspec": {
   "display_name": "Python 3 (ipykernel)",
   "language": "python",
   "name": "python3"
  },
  "language_info": {
   "codemirror_mode": {
    "name": "ipython",
    "version": 3
   },
   "file_extension": ".py",
   "mimetype": "text/x-python",
   "name": "python",
   "nbconvert_exporter": "python",
   "pygments_lexer": "ipython3",
   "version": "3.8.10"
  }
 },
 "nbformat": 4,
 "nbformat_minor": 5
}
